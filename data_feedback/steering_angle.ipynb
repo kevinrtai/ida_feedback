{
 "cells": [
  {
   "cell_type": "markdown",
   "metadata": {},
   "source": [
    "# Comma.ai Accelerometer -> Steering Angle\n",
    "\n",
    "We'd like to be able to predict the steering angle of the car from the accelerometer data of a device on board. We may need to include the speed of the car as input to disambiguate between (low speed, sharp turn) and (high speed, shallow turn), but we can try both out to see what works best."
   ]
  },
  {
   "cell_type": "markdown",
   "metadata": {},
   "source": [
    "## Prelude\n",
    "\n",
    "Imports, functions."
   ]
  },
  {
   "cell_type": "code",
   "execution_count": 43,
   "metadata": {
    "collapsed": true
   },
   "outputs": [],
   "source": [
    "import numpy as np\n",
    "import pandas as pd\n",
    "import h5py\n",
    "from os import listdir\n",
    "from os.path import isfile, isdir, join\n",
    "import matplotlib.pyplot as plt\n",
    "%matplotlib inline"
   ]
  },
  {
   "cell_type": "markdown",
   "metadata": {},
   "source": [
    "## Data Exploration"
   ]
  },
  {
   "cell_type": "code",
   "execution_count": 3,
   "metadata": {
    "collapsed": true
   },
   "outputs": [],
   "source": [
    "data_dir = 'dataset/log/'\n",
    "files = [f for f in listdir(data_dir) if isfile(join(data_dir, f))]"
   ]
  },
  {
   "cell_type": "code",
   "execution_count": 4,
   "metadata": {
    "collapsed": false
   },
   "outputs": [
    {
     "data": {
      "text/plain": [
       "['2016-02-08--14-56-28.h5',\n",
       " '2016-06-02--21-39-29.h5',\n",
       " '2016-01-31--19-19-25.h5',\n",
       " '2016-04-21--14-48-08.h5',\n",
       " '2016-05-12--22-20-00.h5',\n",
       " '2016-02-11--21-32-47.h5',\n",
       " '2016-06-08--11-46-01.h5',\n",
       " '2016-01-30--13-46-00.h5',\n",
       " '2016-01-30--11-24-51.h5',\n",
       " '2016-02-02--10-16-58.h5',\n",
       " '2016-03-29--10-50-20.h5']"
      ]
     },
     "execution_count": 4,
     "metadata": {},
     "output_type": "execute_result"
    }
   ],
   "source": [
    "files"
   ]
  },
  {
   "cell_type": "code",
   "execution_count": 35,
   "metadata": {
    "collapsed": true
   },
   "outputs": [],
   "source": [
    "f = h5py.File(join(data_dir, files[0]), 'r')"
   ]
  },
  {
   "cell_type": "code",
   "execution_count": 37,
   "metadata": {
    "collapsed": false
   },
   "outputs": [
    {
     "name": "stdout",
     "output_type": "stream",
     "text": [
      "key: UN_D_cam1_ptr\n",
      "\t(25866,)\n",
      "key: UN_D_cam2_ptr\n",
      "\t(25856,)\n",
      "key: UN_D_camphone_ptr\n",
      "\t(38558,)\n",
      "key: UN_D_lidar_ptr\n",
      "\t(2338820,)\n",
      "key: UN_D_radar_msg\n",
      "\t(341978, 7)\n",
      "key: UN_D_rawgps\n",
      "\t(54044,)\n",
      "key: UN_T_cam1_ptr\n",
      "\t(25866,)\n",
      "key: UN_T_cam2_ptr\n",
      "\t(25856,)\n",
      "key: UN_T_camphone_ptr\n",
      "\t(38558,)\n",
      "key: UN_T_lidar_ptr\n",
      "\t(2338820,)\n",
      "key: UN_T_radar_msg\n",
      "\t(341978,)\n",
      "key: UN_T_rawgps\n",
      "\t(54044,)\n",
      "key: blinker\n",
      "\t(129344,)\n",
      "key: brake\n",
      "\t(129344,)\n",
      "key: brake_computer\n",
      "\t(129344,)\n",
      "key: brake_user\n",
      "\t(129344,)\n",
      "key: cam1_ptr\n",
      "\t(129344,)\n",
      "key: cam2_ptr\n",
      "\t(129344,)\n",
      "key: camphone_ptr\n",
      "\t(129344,)\n",
      "key: car_accel\n",
      "\t(129344,)\n",
      "key: fiber_accel\n",
      "\t(129344, 3)\n",
      "key: fiber_compass\n",
      "\t(129344, 3)\n",
      "key: fiber_compass_x\n",
      "\t(129344,)\n",
      "key: fiber_compass_y\n",
      "\t(129344,)\n",
      "key: fiber_compass_z\n",
      "\t(129344,)\n",
      "key: fiber_gyro\n",
      "\t(129344, 3)\n",
      "key: fiber_temperature\n",
      "\t(129344,)\n",
      "key: gas\n",
      "\t(129344,)\n",
      "key: gear_choice\n",
      "\t(129344,)\n",
      "key: gps_1_fix\n",
      "\t(129344,)\n",
      "key: gps_1_pos\n",
      "\t(129344, 3)\n",
      "key: gps_1_vel\n",
      "\t(129344, 3)\n",
      "key: gps_2_fix\n",
      "\t(129344,)\n",
      "key: gps_2_pos\n",
      "\t(129344, 3)\n",
      "key: gps_2_vel\n",
      "\t(129344, 3)\n",
      "key: idx\n",
      "\t(129344,)\n",
      "key: imu_accel\n",
      "\t(129344, 3)\n",
      "key: imu_compass\n",
      "\t(129344, 3)\n",
      "key: imu_gyro\n",
      "\t(129344, 3)\n",
      "key: rpm\n",
      "\t(129344,)\n",
      "key: rpm_post_torque\n",
      "\t(129344,)\n",
      "key: selfdrive\n",
      "\t(129344,)\n",
      "key: speed\n",
      "\t(129344,)\n",
      "key: speed_abs\n",
      "\t(129344,)\n",
      "key: speed_fl\n",
      "\t(129344,)\n",
      "key: speed_fr\n",
      "\t(129344,)\n",
      "key: speed_rl\n",
      "\t(129344,)\n",
      "key: speed_rr\n",
      "\t(129344,)\n",
      "key: standstill\n",
      "\t(129344,)\n",
      "key: steering_angle\n",
      "\t(129344,)\n",
      "key: steering_torque\n",
      "\t(129344,)\n",
      "key: times\n",
      "\t(129344,)\n",
      "key: velodyne_gps\n",
      "\t(129344, 3)\n",
      "key: velodyne_heading\n",
      "\t(129344, 2)\n",
      "key: velodyne_imu\n",
      "\t(129344, 12)\n"
     ]
    }
   ],
   "source": [
    "for key in f.keys():\n",
    "    print('key: {}\\n\\t{}'.format(key, f[key].shape))"
   ]
  },
  {
   "cell_type": "code",
   "execution_count": 38,
   "metadata": {
    "collapsed": false
   },
   "outputs": [],
   "source": [
    "accel = np.array(f['imu_accel'])\n",
    "x, y, z = (accel[:, 0], accel[:, 1], accel[:, 2])\n",
    "data = {'steering_angle': f['steering_angle'], 'x': x, 'y': y, 'z': z}\n",
    "angle_data = pd.DataFrame(data)"
   ]
  },
  {
   "cell_type": "code",
   "execution_count": 39,
   "metadata": {
    "collapsed": false
   },
   "outputs": [
    {
     "data": {
      "text/html": [
       "<div>\n",
       "<table border=\"1\" class=\"dataframe\">\n",
       "  <thead>\n",
       "    <tr style=\"text-align: right;\">\n",
       "      <th></th>\n",
       "      <th>steering_angle</th>\n",
       "      <th>x</th>\n",
       "      <th>y</th>\n",
       "      <th>z</th>\n",
       "    </tr>\n",
       "  </thead>\n",
       "  <tbody>\n",
       "    <tr>\n",
       "      <th>0</th>\n",
       "      <td>-3426.0</td>\n",
       "      <td>-1.210000</td>\n",
       "      <td>9.470000</td>\n",
       "      <td>-1.000000</td>\n",
       "    </tr>\n",
       "    <tr>\n",
       "      <th>1</th>\n",
       "      <td>-3426.0</td>\n",
       "      <td>-1.220000</td>\n",
       "      <td>9.464167</td>\n",
       "      <td>-0.968611</td>\n",
       "    </tr>\n",
       "    <tr>\n",
       "      <th>2</th>\n",
       "      <td>-3426.0</td>\n",
       "      <td>-1.219803</td>\n",
       "      <td>9.490197</td>\n",
       "      <td>-0.961377</td>\n",
       "    </tr>\n",
       "    <tr>\n",
       "      <th>3</th>\n",
       "      <td>-3426.0</td>\n",
       "      <td>-1.215939</td>\n",
       "      <td>9.500000</td>\n",
       "      <td>-1.053755</td>\n",
       "    </tr>\n",
       "    <tr>\n",
       "      <th>4</th>\n",
       "      <td>-3426.0</td>\n",
       "      <td>-1.230000</td>\n",
       "      <td>9.500848</td>\n",
       "      <td>-1.102372</td>\n",
       "    </tr>\n",
       "  </tbody>\n",
       "</table>\n",
       "</div>"
      ],
      "text/plain": [
       "   steering_angle         x         y         z\n",
       "0         -3426.0 -1.210000  9.470000 -1.000000\n",
       "1         -3426.0 -1.220000  9.464167 -0.968611\n",
       "2         -3426.0 -1.219803  9.490197 -0.961377\n",
       "3         -3426.0 -1.215939  9.500000 -1.053755\n",
       "4         -3426.0 -1.230000  9.500848 -1.102372"
      ]
     },
     "execution_count": 39,
     "metadata": {},
     "output_type": "execute_result"
    }
   ],
   "source": [
    "angle_data.head()"
   ]
  },
  {
   "cell_type": "code",
   "execution_count": 40,
   "metadata": {
    "collapsed": true
   },
   "outputs": [],
   "source": [
    "f.close()"
   ]
  },
  {
   "cell_type": "code",
   "execution_count": 41,
   "metadata": {
    "collapsed": false
   },
   "outputs": [
    {
     "data": {
      "text/plain": [
       "-5111.8364744743139"
      ]
     },
     "execution_count": 41,
     "metadata": {},
     "output_type": "execute_result"
    }
   ],
   "source": [
    "angle_data['steering_angle'].min()"
   ]
  },
  {
   "cell_type": "code",
   "execution_count": 44,
   "metadata": {
    "collapsed": false
   },
   "outputs": [
    {
     "data": {
      "text/plain": [
       "(array([  1.29000000e+02,   2.90000000e+01,   5.87000000e+02,\n",
       "          1.93000000e+02,   3.56000000e+02,   5.81000000e+02,\n",
       "          1.26143000e+05,   4.75000000e+02,   3.16000000e+02,\n",
       "          5.35000000e+02]),\n",
       " array([-5111.83647447, -4335.45282703, -3559.06917958, -2782.68553213,\n",
       "        -2006.30188468, -1229.91823724,  -453.53458979,   322.84905766,\n",
       "         1099.23270511,  1875.61635255,  2652.        ]),\n",
       " <a list of 10 Patch objects>)"
      ]
     },
     "execution_count": 44,
     "metadata": {},
     "output_type": "execute_result"
    },
    {
     "data": {
      "image/png": "[encoded data removed]",
      "text/plain": [
       "<matplotlib.figure.Figure at 0x11c7b1dd8>"
      ]
     },
     "metadata": {},
     "output_type": "display_data"
    }
   ],
   "source": [
    "plt.hist(angle_data['steering_angle'])"
   ]
  },
  {
   "cell_type": "code",
   "execution_count": 54,
   "metadata": {
    "collapsed": false
   },
   "outputs": [
    {
     "data": {
      "text/plain": [
       "(array([ 129.,   29.,  587.,  193.,  356.,  506.,    0.,  298.,  316.,  535.]),\n",
       " array([-5111.83647447, -4335.45282703, -3559.06917958, -2782.68553213,\n",
       "        -2006.30188468, -1229.91823724,  -453.53458979,   322.84905766,\n",
       "         1099.23270511,  1875.61635255,  2652.        ]),\n",
       " <a list of 10 Patch objects>)"
      ]
     },
     "execution_count": 54,
     "metadata": {},
     "output_type": "execute_result"
    },
    {
     "data": {
      "image/png": "[encoded data removed]",
      "text/plain": [
       "<matplotlib.figure.Figure at 0x11c959208>"
      ]
     },
     "metadata": {},
     "output_type": "display_data"
    }
   ],
   "source": [
    "plt.hist(angle_data[angle_data['steering_angle'].abs() > 500]['steering_angle'])"
   ]
  },
  {
   "cell_type": "code",
   "execution_count": 42,
   "metadata": {
    "collapsed": false
   },
   "outputs": [
    {
     "data": {
      "text/plain": [
       "2652.0"
      ]
     },
     "execution_count": 42,
     "metadata": {},
     "output_type": "execute_result"
    }
   ],
   "source": [
    "angle_data['steering_angle'].max()"
   ]
  },
  {
   "cell_type": "code",
   "execution_count": 55,
   "metadata": {
    "collapsed": true
   },
   "outputs": [],
   "source": [
    "extreme = angle_data[angle_data['steering_angle'].abs() > 500]"
   ]
  },
  {
   "cell_type": "markdown",
   "metadata": {},
   "source": [
    "## Linear Model"
   ]
  },
  {
   "cell_type": "code",
   "execution_count": 75,
   "metadata": {
    "collapsed": true
   },
   "outputs": [],
   "source": [
    "from sklearn.linear_model import LinearRegression\n",
    "from sklearn.metrics import mean_squared_error\n",
    "from sklearn.model_selection import train_test_split"
   ]
  },
  {
   "cell_type": "code",
   "execution_count": 67,
   "metadata": {
    "collapsed": true
   },
   "outputs": [],
   "source": [
    "train_x, test_x, train_y, test_y = train_test_split(extreme.iloc[:, 1:], extreme['steering_angle'], test_size=0.1)"
   ]
  },
  {
   "cell_type": "code",
   "execution_count": 68,
   "metadata": {
    "collapsed": false
   },
   "outputs": [
    {
     "data": {
      "text/plain": [
       "LinearRegression(copy_X=True, fit_intercept=True, n_jobs=1, normalize=False)"
      ]
     },
     "execution_count": 68,
     "metadata": {},
     "output_type": "execute_result"
    }
   ],
   "source": [
    "lm = LinearRegression()\n",
    "lm.fit(train_x, train_y)"
   ]
  },
  {
   "cell_type": "code",
   "execution_count": 69,
   "metadata": {
    "collapsed": false
   },
   "outputs": [
    {
     "data": {
      "text/plain": [
       "1976.2710556861848"
      ]
     },
     "execution_count": 69,
     "metadata": {},
     "output_type": "execute_result"
    }
   ],
   "source": [
    "np.sqrt(mean_squared_error(lm.predict(train_x), train_y))"
   ]
  },
  {
   "cell_type": "code",
   "execution_count": 70,
   "metadata": {
    "collapsed": false
   },
   "outputs": [],
   "source": [
    "preds = lm.predict(test_x)"
   ]
  },
  {
   "cell_type": "code",
   "execution_count": 73,
   "metadata": {
    "collapsed": false
   },
   "outputs": [
    {
     "data": {
      "text/plain": [
       "1915.4940886521433"
      ]
     },
     "execution_count": 73,
     "metadata": {},
     "output_type": "execute_result"
    }
   ],
   "source": [
    "np.sqrt(mean_squared_error(preds, test_y))"
   ]
  },
  {
   "cell_type": "markdown",
   "metadata": {},
   "source": [
    "## Logistic Regression\n"
   ]
  },
  {
   "cell_type": "code",
   "execution_count": 86,
   "metadata": {
    "collapsed": true
   },
   "outputs": [],
   "source": [
    "from sklearn.linear_model import LogisticRegression\n",
    "from sklearn.metrics import roc_auc_score"
   ]
  },
  {
   "cell_type": "code",
   "execution_count": 96,
   "metadata": {
    "collapsed": false
   },
   "outputs": [
    {
     "name": "stderr",
     "output_type": "stream",
     "text": [
      "/Users/kevinrtai/.pyenv/versions/anaconda3-4.2.0/lib/python3.5/site-packages/pandas/core/indexing.py:549: SettingWithCopyWarning: \n",
      "A value is trying to be set on a copy of a slice from a DataFrame.\n",
      "Try using .loc[row_indexer,col_indexer] = value instead\n",
      "\n",
      "See the caveats in the documentation: http://pandas.pydata.org/pandas-docs/stable/indexing.html#indexing-view-versus-copy\n",
      "  self.obj[item_labels[indexer[info_axis]]] = value\n",
      "/Users/kevinrtai/.pyenv/versions/anaconda3-4.2.0/lib/python3.5/site-packages/ipykernel/__main__.py:2: SettingWithCopyWarning: \n",
      "A value is trying to be set on a copy of a slice from a DataFrame.\n",
      "Try using .loc[row_indexer,col_indexer] = value instead\n",
      "\n",
      "See the caveats in the documentation: http://pandas.pydata.org/pandas-docs/stable/indexing.html#indexing-view-versus-copy\n",
      "  from ipykernel import kernelapp as app\n"
     ]
    }
   ],
   "source": [
    "extreme.loc[:, 'turn'] = (np.sign(extreme.loc[:, 'steering_angle']) + 1) / 2\n",
    "extreme['turn'] = extreme['turn'].astype(int)"
   ]
  },
  {
   "cell_type": "code",
   "execution_count": 98,
   "metadata": {
    "collapsed": false
   },
   "outputs": [],
   "source": [
    "train_x, test_x, train_y, test_y = train_test_split(extreme.iloc[:, 1:], extreme['turn'], test_size=0.1)"
   ]
  },
  {
   "cell_type": "code",
   "execution_count": 99,
   "metadata": {
    "collapsed": false,
    "scrolled": true
   },
   "outputs": [
    {
     "data": {
      "text/plain": [
       "LogisticRegression(C=1.0, class_weight=None, dual=False, fit_intercept=True,\n",
       "          intercept_scaling=1, max_iter=100, multi_class='ovr', n_jobs=1,\n",
       "          penalty='l2', random_state=None, solver='liblinear', tol=0.0001,\n",
       "          verbose=0, warm_start=False)"
      ]
     },
     "execution_count": 99,
     "metadata": {},
     "output_type": "execute_result"
    }
   ],
   "source": [
    "lreg = LogisticRegression()\n",
    "lreg.fit(train_x, train_y)"
   ]
  },
  {
   "cell_type": "code",
   "execution_count": 111,
   "metadata": {
    "collapsed": false
   },
   "outputs": [
    {
     "data": {
      "text/plain": [
       "1.0"
      ]
     },
     "execution_count": 111,
     "metadata": {},
     "output_type": "execute_result"
    }
   ],
   "source": [
    "roc_auc_score(train_y, lreg.predict_proba(train_x)[:, 1])"
   ]
  },
  {
   "cell_type": "code",
   "execution_count": 112,
   "metadata": {
    "collapsed": false
   },
   "outputs": [
    {
     "data": {
      "text/plain": [
       "1.0"
      ]
     },
     "execution_count": 112,
     "metadata": {},
     "output_type": "execute_result"
    }
   ],
   "source": [
    "roc_auc_score(test_y, lreg.predict_proba(test_x)[:, 1])"
   ]
  }
 ],
 "metadata": {
  "anaconda-cloud": {},
  "kernelspec": {
   "display_name": "Python [conda root]",
   "language": "python",
   "name": "conda-root-py"
  },
  "language_info": {
   "codemirror_mode": {
    "name": "ipython",
    "version": 3
   },
   "file_extension": ".py",
   "mimetype": "text/x-python",
   "name": "python",
   "nbconvert_exporter": "python",
   "pygments_lexer": "ipython3",
   "version": "3.5.2"
  }
 },
 "nbformat": 4,
 "nbformat_minor": 1
}
